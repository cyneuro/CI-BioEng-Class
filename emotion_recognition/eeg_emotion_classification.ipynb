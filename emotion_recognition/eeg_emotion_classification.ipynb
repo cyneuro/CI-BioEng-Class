{
  "cells": [
    {
      "cell_type": "markdown",
      "metadata": {},
      "source": [
        "# Emotion recognition using EEG and computer games (+micro:bit)"
      ]
    },
    {
      "cell_type": "code",
      "execution_count": 1,
      "metadata": {
        "id": "oEGRdjhQEijp"
      },
      "outputs": [],
      "source": [
        "import numpy as np\n",
        "import pandas as pd\n",
        "import matplotlib.pyplot as plt\n",
        "import torch\n",
        "from sklearn.model_selection import train_test_split\n",
        "from sklearn.metrics import accuracy_score\n",
        "\n",
        "import os\n",
        "\n",
        "# Constants\n",
        "SAMPLE_RATE = 32 # (Hz)\n",
        "GAMES = [\"boring\", \"calm\", \"horror\", \"funny\"]"
      ]
    },
    {
      "cell_type": "markdown",
      "metadata": {
        "id": "OFO1TlCsJ1EJ"
      },
      "source": [
        "## Preprocess the data"
      ]
    },
    {
      "cell_type": "markdown",
      "metadata": {},
      "source": [
        "1. Read and plot the data."
      ]
    },
    {
      "cell_type": "code",
      "execution_count": 71,
      "metadata": {
        "id": "MM8kVtV7E66K"
      },
      "outputs": [
        {
          "data": {
            "text/html": [
              "<div>\n",
              "<style scoped>\n",
              "    .dataframe tbody tr th:only-of-type {\n",
              "        vertical-align: middle;\n",
              "    }\n",
              "\n",
              "    .dataframe tbody tr th {\n",
              "        vertical-align: top;\n",
              "    }\n",
              "\n",
              "    .dataframe thead th {\n",
              "        text-align: right;\n",
              "    }\n",
              "</style>\n",
              "<table border=\"1\" class=\"dataframe\">\n",
              "  <thead>\n",
              "    <tr style=\"text-align: right;\">\n",
              "      <th></th>\n",
              "      <th>AF3</th>\n",
              "      <th>AF4</th>\n",
              "      <th>F3</th>\n",
              "      <th>F4</th>\n",
              "      <th>F7</th>\n",
              "      <th>F8</th>\n",
              "      <th>FC5</th>\n",
              "      <th>FC6</th>\n",
              "      <th>O1</th>\n",
              "      <th>O2</th>\n",
              "      <th>P7</th>\n",
              "      <th>P8</th>\n",
              "      <th>T7</th>\n",
              "      <th>T8</th>\n",
              "      <th>Unnamed: 14</th>\n",
              "      <th>game</th>\n",
              "    </tr>\n",
              "  </thead>\n",
              "  <tbody>\n",
              "    <tr>\n",
              "      <th>0</th>\n",
              "      <td>-33.0205</td>\n",
              "      <td>-15.1846</td>\n",
              "      <td>-42.1795</td>\n",
              "      <td>1.6872</td>\n",
              "      <td>42.1793</td>\n",
              "      <td>-1.68720</td>\n",
              "      <td>-5.5436</td>\n",
              "      <td>-3.6154</td>\n",
              "      <td>25.7899</td>\n",
              "      <td>-9.88190</td>\n",
              "      <td>5.5436</td>\n",
              "      <td>7.47180</td>\n",
              "      <td>11.8101</td>\n",
              "      <td>17.1128</td>\n",
              "      <td>NaN</td>\n",
              "      <td>boring</td>\n",
              "    </tr>\n",
              "    <tr>\n",
              "      <th>1</th>\n",
              "      <td>-28.6291</td>\n",
              "      <td>-20.0583</td>\n",
              "      <td>-42.5410</td>\n",
              "      <td>-10.4653</td>\n",
              "      <td>35.3100</td>\n",
              "      <td>-15.68600</td>\n",
              "      <td>-19.3110</td>\n",
              "      <td>-2.4344</td>\n",
              "      <td>17.4933</td>\n",
              "      <td>3.24420</td>\n",
              "      <td>18.7081</td>\n",
              "      <td>5.09510</td>\n",
              "      <td>17.3683</td>\n",
              "      <td>3.0708</td>\n",
              "      <td>NaN</td>\n",
              "      <td>boring</td>\n",
              "    </tr>\n",
              "    <tr>\n",
              "      <th>2</th>\n",
              "      <td>-21.8497</td>\n",
              "      <td>-10.9006</td>\n",
              "      <td>-32.0346</td>\n",
              "      <td>-2.3656</td>\n",
              "      <td>39.6993</td>\n",
              "      <td>-0.64483</td>\n",
              "      <td>-4.0523</td>\n",
              "      <td>-1.0830</td>\n",
              "      <td>26.8081</td>\n",
              "      <td>-3.45840</td>\n",
              "      <td>8.1861</td>\n",
              "      <td>8.40480</td>\n",
              "      <td>15.1209</td>\n",
              "      <td>9.3940</td>\n",
              "      <td>NaN</td>\n",
              "      <td>boring</td>\n",
              "    </tr>\n",
              "    <tr>\n",
              "      <th>3</th>\n",
              "      <td>-25.1185</td>\n",
              "      <td>-10.9702</td>\n",
              "      <td>-32.7641</td>\n",
              "      <td>-3.4287</td>\n",
              "      <td>32.7378</td>\n",
              "      <td>4.69650</td>\n",
              "      <td>-8.6299</td>\n",
              "      <td>-1.7412</td>\n",
              "      <td>16.7637</td>\n",
              "      <td>-9.75860</td>\n",
              "      <td>1.1868</td>\n",
              "      <td>0.91086</td>\n",
              "      <td>4.3315</td>\n",
              "      <td>8.1073</td>\n",
              "      <td>NaN</td>\n",
              "      <td>boring</td>\n",
              "    </tr>\n",
              "    <tr>\n",
              "      <th>4</th>\n",
              "      <td>-19.0316</td>\n",
              "      <td>-9.5886</td>\n",
              "      <td>-29.1108</td>\n",
              "      <td>-3.9459</td>\n",
              "      <td>35.3533</td>\n",
              "      <td>0.79929</td>\n",
              "      <td>-12.6914</td>\n",
              "      <td>1.0144</td>\n",
              "      <td>13.1068</td>\n",
              "      <td>-0.73692</td>\n",
              "      <td>8.1054</td>\n",
              "      <td>-1.31300</td>\n",
              "      <td>8.1694</td>\n",
              "      <td>8.3442</td>\n",
              "      <td>NaN</td>\n",
              "      <td>boring</td>\n",
              "    </tr>\n",
              "  </tbody>\n",
              "</table>\n",
              "</div>"
            ],
            "text/plain": [
              "       AF3      AF4       F3       F4       F7        F8      FC5     FC6  \\\n",
              "0 -33.0205 -15.1846 -42.1795   1.6872  42.1793  -1.68720  -5.5436 -3.6154   \n",
              "1 -28.6291 -20.0583 -42.5410 -10.4653  35.3100 -15.68600 -19.3110 -2.4344   \n",
              "2 -21.8497 -10.9006 -32.0346  -2.3656  39.6993  -0.64483  -4.0523 -1.0830   \n",
              "3 -25.1185 -10.9702 -32.7641  -3.4287  32.7378   4.69650  -8.6299 -1.7412   \n",
              "4 -19.0316  -9.5886 -29.1108  -3.9459  35.3533   0.79929 -12.6914  1.0144   \n",
              "\n",
              "        O1       O2       P7       P8       T7       T8  Unnamed: 14    game  \n",
              "0  25.7899 -9.88190   5.5436  7.47180  11.8101  17.1128          NaN  boring  \n",
              "1  17.4933  3.24420  18.7081  5.09510  17.3683   3.0708          NaN  boring  \n",
              "2  26.8081 -3.45840   8.1861  8.40480  15.1209   9.3940          NaN  boring  \n",
              "3  16.7637 -9.75860   1.1868  0.91086   4.3315   8.1073          NaN  boring  \n",
              "4  13.1068 -0.73692   8.1054 -1.31300   8.1694   8.3442          NaN  boring  "
            ]
          },
          "execution_count": 71,
          "metadata": {},
          "output_type": "execute_result"
        }
      ],
      "source": [
        "# Read the data\n",
        "data = []\n",
        "for game_id, game in enumerate(GAMES):\n",
        "    game_data = pd.read_csv(os.path.join(\"data\", f\"S01G{game_id + 1}AllChannels.csv\"))\n",
        "    game_data[\"game\"] = game\n",
        "    data.append(game_data)\n",
        "\n",
        "data = pd.concat(data, axis = 0, ignore_index = True)\n",
        "\n",
        "data.head()"
      ]
    },
    {
      "cell_type": "code",
      "execution_count": null,
      "metadata": {
        "colab": {
          "base_uri": "https://localhost:8080/",
          "height": 447
        },
        "id": "vQZOrf6gFAmQ",
        "outputId": "1d78376f-11ff-4f80-be16-ed5490e09420"
      },
      "outputs": [
        {
          "data": {
            "text/plain": [
              "<matplotlib.legend.Legend at 0x1480a6620>"
            ]
          },
          "execution_count": 72,
          "metadata": {},
          "output_type": "execute_result"
        },
        {
          "data": {
            "image/png": "[encoded data removed]",
            "text/plain": [
              "<Figure size 640x480 with 1 Axes>"
            ]
          },
          "metadata": {},
          "output_type": "display_data"
        }
      ],
      "source": [
        "# TODO: choose one of the frontal (F3 / F4 / F7 / F8 / FC5 / FC6) or temporal (T7 / T8) electrodes and ensure the signal is clean\n",
        "electrode = \"T7\"\n",
        "\n",
        "fig, ax = plt.subplots(1, 1)\n",
        "for game in GAMES:\n",
        "    ax.plot(data[data[\"game\"] == game][electrode], label = game)\n",
        "ax.set_xlabel(\"Time (seconds)\")\n",
        "ax.set_xticks(range(0, len(data), SAMPLE_RATE * 60 * 10))\n",
        "ax.set_ylabel(\"mV\")\n",
        "\n",
        "ax.legend()"
      ]
    },
    {
      "cell_type": "markdown",
      "metadata": {},
      "source": [
        "2. Use the chosen electrode and create a dataset of X-second clips."
      ]
    },
    {
      "cell_type": "code",
      "execution_count": 73,
      "metadata": {},
      "outputs": [],
      "source": [
        "# TODO: re-reference the data if needed\n",
        "# ..."
      ]
    },
    {
      "cell_type": "code",
      "execution_count": 74,
      "metadata": {},
      "outputs": [
        {
          "data": {
            "text/html": [
              "<div>\n",
              "<style scoped>\n",
              "    .dataframe tbody tr th:only-of-type {\n",
              "        vertical-align: middle;\n",
              "    }\n",
              "\n",
              "    .dataframe tbody tr th {\n",
              "        vertical-align: top;\n",
              "    }\n",
              "\n",
              "    .dataframe thead th {\n",
              "        text-align: right;\n",
              "    }\n",
              "</style>\n",
              "<table border=\"1\" class=\"dataframe\">\n",
              "  <thead>\n",
              "    <tr style=\"text-align: right;\">\n",
              "      <th></th>\n",
              "      <th>T7</th>\n",
              "      <th>game</th>\n",
              "    </tr>\n",
              "  </thead>\n",
              "  <tbody>\n",
              "    <tr>\n",
              "      <th>0</th>\n",
              "      <td>11.8101</td>\n",
              "      <td>boring</td>\n",
              "    </tr>\n",
              "    <tr>\n",
              "      <th>1</th>\n",
              "      <td>17.3683</td>\n",
              "      <td>boring</td>\n",
              "    </tr>\n",
              "    <tr>\n",
              "      <th>2</th>\n",
              "      <td>15.1209</td>\n",
              "      <td>boring</td>\n",
              "    </tr>\n",
              "    <tr>\n",
              "      <th>3</th>\n",
              "      <td>4.3315</td>\n",
              "      <td>boring</td>\n",
              "    </tr>\n",
              "    <tr>\n",
              "      <th>4</th>\n",
              "      <td>8.1694</td>\n",
              "      <td>boring</td>\n",
              "    </tr>\n",
              "  </tbody>\n",
              "</table>\n",
              "</div>"
            ],
            "text/plain": [
              "        T7    game\n",
              "0  11.8101  boring\n",
              "1  17.3683  boring\n",
              "2  15.1209  boring\n",
              "3   4.3315  boring\n",
              "4   8.1694  boring"
            ]
          },
          "execution_count": 74,
          "metadata": {},
          "output_type": "execute_result"
        }
      ],
      "source": [
        "data = data[[electrode, \"game\"]]\n",
        "data.head()"
      ]
    },
    {
      "cell_type": "code",
      "execution_count": 75,
      "metadata": {
        "id": "f_uZIIhyHjPV"
      },
      "outputs": [
        {
          "name": "stdout",
          "output_type": "stream",
          "text": [
            "(2388, 64)\n",
            "(2388,)\n"
          ]
        }
      ],
      "source": [
        "# TODO: adjust if needed\n",
        "clip_length = 2 # (seconds)\n",
        "\n",
        "# Split into clips\n",
        "clipped_data = []\n",
        "y = []\n",
        "for game_id, game in enumerate(GAMES):\n",
        "    clips = np.array_split(\n",
        "        data[data['game'] == game][electrode].to_numpy(), \n",
        "        len(data[data['game'] == game]) // (clip_length * SAMPLE_RATE))\n",
        "    clipped_data.extend(clips)\n",
        "    y.extend([game_id] * len(clips))\n",
        "\n",
        "# Remove edge effects\n",
        "min_length = np.min([len(arr) for arr in clipped_data])\n",
        "X = []\n",
        "for array in clipped_data:\n",
        "    X.append(array[:min_length])\n",
        "\n",
        "X = np.vstack(X, dtype = float)\n",
        "y = np.array(y, dtype = int)\n",
        "\n",
        "print(X.shape)\n",
        "print(y.shape)"
      ]
    },
    {
      "cell_type": "markdown",
      "metadata": {
        "id": "qn-ylcgyJw3T"
      },
      "source": [
        "## Train a CNN model"
      ]
    },
    {
      "cell_type": "code",
      "execution_count": 76,
      "metadata": {
        "id": "gyZo0z1PJTas"
      },
      "outputs": [
        {
          "name": "stdout",
          "output_type": "stream",
          "text": [
            "torch.Size([1671, 1, 64])\n"
          ]
        }
      ],
      "source": [
        "np.random.seed(123)\n",
        "\n",
        "# Add an additional axis required by torch's Conv layers\n",
        "X = np.expand_dims(X, 1)\n",
        "X_train, X_test, y_train, y_test = train_test_split(X, y, test_size = 0.3)\n",
        "\n",
        "# Convert to torch tensors\n",
        "X_train, X_test = torch.Tensor(X_train), torch.Tensor(X_test)\n",
        "y_train, y_test = torch.Tensor(y_train), torch.Tensor(y_test)\n",
        "\n",
        "print(X_train.shape)"
      ]
    },
    {
      "cell_type": "code",
      "execution_count": 77,
      "metadata": {
        "id": "RH4CJyj4J4pO"
      },
      "outputs": [],
      "source": [
        "class LFPDataset(torch.utils.data.Dataset):\n",
        "\n",
        "    def __init__(self, X, y):\n",
        "        self.X = X\n",
        "        self.y = y.long()\n",
        "\n",
        "    def __len__(self):\n",
        "        return len(self.X)\n",
        "\n",
        "    def __getitem__(self, idx):\n",
        "        return self.X[idx], self.y[idx]"
      ]
    },
    {
      "cell_type": "code",
      "execution_count": 78,
      "metadata": {
        "id": "6FRgyW3RJ6XN"
      },
      "outputs": [],
      "source": [
        "# Batch generators\n",
        "\n",
        "# TODO: adjust if needed\n",
        "batch_size = 32\n",
        "\n",
        "train_batch_generator = torch.utils.data.DataLoader(LFPDataset(X_train, y_train), batch_size = batch_size,\n",
        "                                                    shuffle = True)\n",
        "\n",
        "test_batch_generator = torch.utils.data.DataLoader(LFPDataset(X_test, y_test), batch_size = batch_size,\n",
        "                                                    shuffle = False)"
      ]
    },
    {
      "cell_type": "code",
      "execution_count": 79,
      "metadata": {
        "id": "h9zZwnttJ9NZ"
      },
      "outputs": [],
      "source": [
        "# TODO: adjust if needed\n",
        "model = torch.nn.Sequential(\n",
        "    torch.nn.Conv1d(1, 1, kernel_size = 4, padding = \"same\"),\n",
        "    torch.nn.ReLU(),\n",
        "    torch.nn.Conv1d(1, 1, kernel_size = 4, padding = \"same\"),\n",
        "    torch.nn.Flatten(),\n",
        "    torch.nn.Linear(64, 4),\n",
        "    torch.nn.LogSoftmax(dim = 1)\n",
        ")"
      ]
    },
    {
      "cell_type": "code",
      "execution_count": 80,
      "metadata": {
        "id": "lt5XTGhKKAbY"
      },
      "outputs": [],
      "source": [
        "def train(n_epoch, model):\n",
        "    # TODO: adjust learning rate if needed\n",
        "    optimizer = torch.optim.Adam(model.parameters(), lr = 0.0001)\n",
        "\n",
        "    for e in range(n_epoch):\n",
        "        model.train(True)\n",
        "\n",
        "        train_loss = []\n",
        "        train_acc = []\n",
        "        for X_batch, y_batch in train_batch_generator:\n",
        "            model.zero_grad()\n",
        "            logits = model(X_batch).squeeze()\n",
        "            loss = torch.nn.functional.nll_loss(logits, y_batch)\n",
        "            loss.backward()\n",
        "            optimizer.step()\n",
        "            train_loss.append(loss.detach().numpy())\n",
        "            \n",
        "            prediction = torch.softmax(logits, dim = 1).detach().numpy()\n",
        "            prediction = np.argmax(prediction, axis = 1)\n",
        "            train_acc.append(accuracy_score(y_batch.detach().numpy(), prediction))\n",
        "\n",
        "        model.train(False)\n",
        "        test_loss = []\n",
        "        test_acc = []\n",
        "        with torch.no_grad():\n",
        "            for X_batch, y_batch in test_batch_generator:\n",
        "                logits = model(X_batch).squeeze()\n",
        "                loss = torch.nn.functional.nll_loss(logits, y_batch)\n",
        "                test_loss.append(loss.detach().numpy())\n",
        "\n",
        "                prediction = torch.softmax(logits, dim = 1).detach().numpy()\n",
        "                prediction = np.argmax(prediction, axis = 1)\n",
        "                test_acc.append(accuracy_score(y_batch.detach().numpy(), prediction))\n",
        "\n",
        "        print(f\"Epoch {e} : train_loss={np.mean(train_loss)}, train_acc={np.mean(train_acc)}, test_loss={np.mean(test_loss)}, test_acc={np.mean(test_acc)}\")\n",
        "\n",
        "    return model"
      ]
    },
    {
      "cell_type": "code",
      "execution_count": null,
      "metadata": {
        "colab": {
          "base_uri": "https://localhost:8080/"
        },
        "id": "5iN00ZmuKF49",
        "outputId": "f0af20c0-4ca4-44c2-bf34-4c50a60198ae"
      },
      "outputs": [
        {
          "name": "stdout",
          "output_type": "stream",
          "text": [
            "Epoch 0 : train_loss=1.7378970384597778, train_acc=0.2518530997304582, test_loss=1.668131947517395, test_acc=0.24372909698996656\n",
            "Epoch 1 : train_loss=1.6911776065826416, train_acc=0.24410377358490565, test_loss=1.6358897686004639, test_acc=0.25188127090301005\n",
            "Epoch 2 : train_loss=1.6482576131820679, train_acc=0.24267183288409702, test_loss=1.6090413331985474, test_acc=0.26066053511705684\n",
            "Epoch 3 : train_loss=1.6167405843734741, train_acc=0.24090296495956873, test_loss=1.5860633850097656, test_acc=0.26066053511705684\n",
            "Epoch 4 : train_loss=1.5933032035827637, train_acc=0.24123989218328842, test_loss=1.5664855241775513, test_acc=0.2633779264214047\n",
            "Epoch 5 : train_loss=1.5615816116333008, train_acc=0.2424191374663073, test_loss=1.5495407581329346, test_acc=0.2660953177257525\n",
            "Epoch 6 : train_loss=1.5436371564865112, train_acc=0.24393530997304583, test_loss=1.535090684890747, test_acc=0.26473662207357856\n",
            "Epoch 7 : train_loss=1.53550124168396, train_acc=0.24528301886792453, test_loss=1.5223798751831055, test_acc=0.2620192307692308\n",
            "Epoch 8 : train_loss=1.5106934309005737, train_acc=0.24974730458221023, test_loss=1.5105646848678589, test_acc=0.2674540133779264\n",
            "Epoch 9 : train_loss=1.5005851984024048, train_acc=0.254211590296496, test_loss=1.5006831884384155, test_acc=0.26881270903010035\n",
            "Epoch 10 : train_loss=1.4897863864898682, train_acc=0.2500842318059299, test_loss=1.491844654083252, test_acc=0.2660953177257525\n",
            "Epoch 11 : train_loss=1.4799580574035645, train_acc=0.25033692722371964, test_loss=1.4840435981750488, test_acc=0.2680811036789298\n",
            "Epoch 12 : train_loss=1.4709234237670898, train_acc=0.25033692722371964, test_loss=1.4767577648162842, test_acc=0.26536371237458195\n",
            "Epoch 13 : train_loss=1.4620144367218018, train_acc=0.252105795148248, test_loss=1.4698549509048462, test_acc=0.27278428093645485\n",
            "Epoch 14 : train_loss=1.4517899751663208, train_acc=0.2532850404312668, test_loss=1.4641340970993042, test_acc=0.26327341137123744\n",
            "Epoch 15 : train_loss=1.449292778968811, train_acc=0.2592654986522911, test_loss=1.459141492843628, test_acc=0.2652591973244147\n",
            "Epoch 16 : train_loss=1.4414805173873901, train_acc=0.25951819407008087, test_loss=1.45426344871521, test_acc=0.2625418060200669\n",
            "Epoch 17 : train_loss=1.439610481262207, train_acc=0.2617924528301887, test_loss=1.4500211477279663, test_acc=0.25846571906354515\n",
            "Epoch 18 : train_loss=1.427222728729248, train_acc=0.26693059299191374, test_loss=1.4456443786621094, test_acc=0.25846571906354515\n",
            "Epoch 19 : train_loss=1.426903247833252, train_acc=0.2692890835579515, test_loss=1.4423115253448486, test_acc=0.2625418060200669\n",
            "Epoch 20 : train_loss=1.4209400415420532, train_acc=0.263561320754717, test_loss=1.4388072490692139, test_acc=0.26797658862876256\n",
            "Epoch 21 : train_loss=1.4166722297668457, train_acc=0.2668463611859838, test_loss=1.4359080791473389, test_acc=0.2639005016722408\n",
            "Epoch 22 : train_loss=1.414326786994934, train_acc=0.26566711590296493, test_loss=1.4327625036239624, test_acc=0.2666178929765886\n",
            "Epoch 23 : train_loss=1.4085241556167603, train_acc=0.2695417789757413, test_loss=1.4300580024719238, test_acc=0.2652591973244147\n",
            "Epoch 24 : train_loss=1.408065676689148, train_acc=0.2647405660377358, test_loss=1.4277355670928955, test_acc=0.2652591973244147\n",
            "Epoch 25 : train_loss=1.407783031463623, train_acc=0.2665094339622642, test_loss=1.4255552291870117, test_acc=0.2639005016722408\n",
            "Epoch 26 : train_loss=1.4016313552856445, train_acc=0.2680256064690027, test_loss=1.4232177734375, test_acc=0.2639005016722408\n",
            "Epoch 27 : train_loss=1.3963253498077393, train_acc=0.27425876010781675, test_loss=1.4212367534637451, test_acc=0.2666178929765886\n",
            "Epoch 28 : train_loss=1.393519401550293, train_acc=0.28141846361185985, test_loss=1.419508695602417, test_acc=0.2652591973244147\n",
            "Epoch 29 : train_loss=1.3945986032485962, train_acc=0.2709737196765499, test_loss=1.4180365800857544, test_acc=0.2666178929765886\n",
            "Epoch 30 : train_loss=1.391316294670105, train_acc=0.27248989218328845, test_loss=1.416507363319397, test_acc=0.2666178929765886\n",
            "Epoch 31 : train_loss=1.390241026878357, train_acc=0.27248989218328845, test_loss=1.4149929285049438, test_acc=0.26797658862876256\n",
            "Epoch 32 : train_loss=1.3850237131118774, train_acc=0.2782176549865229, test_loss=1.4137768745422363, test_acc=0.26797658862876256\n",
            "Epoch 33 : train_loss=1.3870052099227905, train_acc=0.27425876010781675, test_loss=1.4124501943588257, test_acc=0.26933528428093645\n",
            "Epoch 34 : train_loss=1.3838776350021362, train_acc=0.2816711590296496, test_loss=1.4110742807388306, test_acc=0.26933528428093645\n",
            "Epoch 35 : train_loss=1.3806604146957397, train_acc=0.27956536388140163, test_loss=1.4101732969284058, test_acc=0.2666178929765886\n",
            "Epoch 36 : train_loss=1.3794193267822266, train_acc=0.28495619946091644, test_loss=1.4090144634246826, test_acc=0.2652591973244147\n",
            "Epoch 37 : train_loss=1.3767699003219604, train_acc=0.2846192722371968, test_loss=1.4079076051712036, test_acc=0.2652591973244147\n",
            "Epoch 38 : train_loss=1.3778070211410522, train_acc=0.2873146900269542, test_loss=1.4070231914520264, test_acc=0.2625418060200669\n",
            "Epoch 39 : train_loss=1.3768277168273926, train_acc=0.2869777628032345, test_loss=1.4064022302627563, test_acc=0.2639005016722408\n",
            "Epoch 40 : train_loss=1.3759080171585083, train_acc=0.2825134770889488, test_loss=1.4055691957473755, test_acc=0.2639005016722408\n",
            "Epoch 41 : train_loss=1.375219702720642, train_acc=0.2825134770889488, test_loss=1.4047571420669556, test_acc=0.2639005016722408\n",
            "Epoch 42 : train_loss=1.3742051124572754, train_acc=0.2804076819407008, test_loss=1.4041446447372437, test_acc=0.2666178929765886\n",
            "Epoch 43 : train_loss=1.3736268281936646, train_acc=0.2831030997304582, test_loss=1.4034314155578613, test_acc=0.2625418060200669\n",
            "Epoch 44 : train_loss=1.3710665702819824, train_acc=0.2852088948787062, test_loss=1.4026226997375488, test_acc=0.2639005016722408\n",
            "Epoch 45 : train_loss=1.370357871055603, train_acc=0.2848719676549865, test_loss=1.4020541906356812, test_acc=0.2639005016722408\n",
            "Epoch 46 : train_loss=1.3748170137405396, train_acc=0.2839454177897574, test_loss=1.401471495628357, test_acc=0.2639005016722408\n",
            "Epoch 47 : train_loss=1.3697158098220825, train_acc=0.2869777628032345, test_loss=1.400913119316101, test_acc=0.2625418060200669\n",
            "Epoch 48 : train_loss=1.3673782348632812, train_acc=0.2914420485175202, test_loss=1.4006309509277344, test_acc=0.2686036789297659\n",
            "Epoch 49 : train_loss=1.3670424222946167, train_acc=0.2851246630727763, test_loss=1.4002745151519775, test_acc=0.2686036789297659\n",
            "Epoch 50 : train_loss=1.3665523529052734, train_acc=0.2878200808625337, test_loss=1.3997416496276855, test_acc=0.2699623745819398\n",
            "Epoch 51 : train_loss=1.3655449151992798, train_acc=0.29110512129380056, test_loss=1.3990381956100464, test_acc=0.26724498327759194\n",
            "Epoch 52 : train_loss=1.3643442392349243, train_acc=0.29017857142857145, test_loss=1.3988388776779175, test_acc=0.26588628762541805\n",
            "Epoch 53 : train_loss=1.3638056516647339, train_acc=0.2922843665768194, test_loss=1.3982207775115967, test_acc=0.26724498327759194\n",
            "Epoch 54 : train_loss=1.3641399145126343, train_acc=0.29194743935309975, test_loss=1.397912859916687, test_acc=0.2699623745819398\n",
            "Epoch 55 : train_loss=1.3625036478042603, train_acc=0.2948955525606469, test_loss=1.3978885412216187, test_acc=0.2686036789297659\n",
            "Epoch 56 : train_loss=1.3653854131698608, train_acc=0.2957378706199461, test_loss=1.397387146949768, test_acc=0.2726797658862876\n",
            "Epoch 57 : train_loss=1.3595935106277466, train_acc=0.3020552560646901, test_loss=1.3969396352767944, test_acc=0.2740384615384615\n",
            "Epoch 58 : train_loss=1.3615509271621704, train_acc=0.3038241239892184, test_loss=1.3970757722854614, test_acc=0.2726797658862876\n",
            "Epoch 59 : train_loss=1.3600579500198364, train_acc=0.30171832884097033, test_loss=1.3965033292770386, test_acc=0.27539715719063546\n",
            "Epoch 60 : train_loss=1.3593543767929077, train_acc=0.3025606469002695, test_loss=1.396203875541687, test_acc=0.2794732441471572\n",
            "Epoch 61 : train_loss=1.3598887920379639, train_acc=0.3007917789757413, test_loss=1.3963674306869507, test_acc=0.2808319397993311\n",
            "Epoch 62 : train_loss=1.3600839376449585, train_acc=0.2998652291105121, test_loss=1.3959449529647827, test_acc=0.27675585284280935\n",
            "Epoch 63 : train_loss=1.3584856986999512, train_acc=0.303150269541779, test_loss=1.3958221673965454, test_acc=0.2794732441471572\n",
            "Epoch 64 : train_loss=1.3587186336517334, train_acc=0.3016340970350404, test_loss=1.395841360092163, test_acc=0.27811454849498324\n",
            "Epoch 65 : train_loss=1.3567795753479004, train_acc=0.3064353099730458, test_loss=1.3952716588974, test_acc=0.2794732441471572\n",
            "Epoch 66 : train_loss=1.3548756837844849, train_acc=0.3076145552560647, test_loss=1.3950145244598389, test_acc=0.2849080267558528\n",
            "Epoch 67 : train_loss=1.356972575187683, train_acc=0.3034029649595687, test_loss=1.3950855731964111, test_acc=0.2849080267558528\n",
            "Epoch 68 : train_loss=1.354819416999817, train_acc=0.30786725067385445, test_loss=1.3948194980621338, test_acc=0.2849080267558528\n",
            "Epoch 69 : train_loss=1.3547756671905518, train_acc=0.3117419137466307, test_loss=1.394652009010315, test_acc=0.28626672240802675\n",
            "Epoch 70 : train_loss=1.3550920486450195, train_acc=0.317722371967655, test_loss=1.3945410251617432, test_acc=0.2849080267558528\n",
            "Epoch 71 : train_loss=1.353410005569458, train_acc=0.3179750673854448, test_loss=1.394537329673767, test_acc=0.28020484949832775\n",
            "Epoch 72 : train_loss=1.3539539575576782, train_acc=0.31283692722371964, test_loss=1.3944991827011108, test_acc=0.2815635451505017\n",
            "Epoch 73 : train_loss=1.354593276977539, train_acc=0.3211758760107816, test_loss=1.3944414854049683, test_acc=0.2815635451505017\n",
            "Epoch 74 : train_loss=1.3565701246261597, train_acc=0.3160377358490566, test_loss=1.3945008516311646, test_acc=0.28020484949832775\n",
            "Epoch 75 : train_loss=1.3540875911712646, train_acc=0.3181435309973046, test_loss=1.3940526247024536, test_acc=0.27884615384615385\n",
            "Epoch 76 : train_loss=1.352055549621582, train_acc=0.3223551212938005, test_loss=1.3938686847686768, test_acc=0.28020484949832775\n",
            "Epoch 77 : train_loss=1.3571782112121582, train_acc=0.3157850404312668, test_loss=1.3938627243041992, test_acc=0.2774874581939799\n",
            "Epoch 78 : train_loss=1.3510375022888184, train_acc=0.3224393530997305, test_loss=1.3935517072677612, test_acc=0.28020484949832775\n",
            "Epoch 79 : train_loss=1.3492202758789062, train_acc=0.32092318059299196, test_loss=1.3935399055480957, test_acc=0.28020484949832775\n",
            "Epoch 80 : train_loss=1.3523517847061157, train_acc=0.3175539083557951, test_loss=1.3933926820755005, test_acc=0.2815635451505017\n",
            "Epoch 81 : train_loss=1.3527785539627075, train_acc=0.3190700808625337, test_loss=1.3936368227005005, test_acc=0.2815635451505017\n",
            "Epoch 82 : train_loss=1.353310465812683, train_acc=0.3178908355795148, test_loss=1.3936687707901, test_acc=0.28020484949832775\n",
            "Epoch 83 : train_loss=1.352104902267456, train_acc=0.3205862533692722, test_loss=1.3934242725372314, test_acc=0.2856396321070234\n",
            "Epoch 84 : train_loss=1.349550485610962, train_acc=0.3184804582210242, test_loss=1.3933967351913452, test_acc=0.2856396321070234\n",
            "Epoch 85 : train_loss=1.3502541780471802, train_acc=0.3253032345013477, test_loss=1.3937264680862427, test_acc=0.28020484949832775\n",
            "Epoch 86 : train_loss=1.3471577167510986, train_acc=0.32951482479784366, test_loss=1.3935657739639282, test_acc=0.28020484949832775\n",
            "Epoch 87 : train_loss=1.3505878448486328, train_acc=0.32673517520215634, test_loss=1.3936012983322144, test_acc=0.2815635451505017\n",
            "Epoch 88 : train_loss=1.3481093645095825, train_acc=0.32884097035040427, test_loss=1.3934643268585205, test_acc=0.2842809364548495\n",
            "Epoch 89 : train_loss=1.3488404750823975, train_acc=0.33002021563342315, test_loss=1.3933703899383545, test_acc=0.2829222408026756\n",
            "Epoch 90 : train_loss=1.3473602533340454, train_acc=0.33119946091644203, test_loss=1.3936398029327393, test_acc=0.2869983277591973\n",
            "Epoch 91 : train_loss=1.3489100933074951, train_acc=0.3341475741239892, test_loss=1.3936737775802612, test_acc=0.2842809364548495\n",
            "Epoch 92 : train_loss=1.3489829301834106, train_acc=0.3320417789757412, test_loss=1.393607258796692, test_acc=0.2842809364548495\n",
            "Epoch 93 : train_loss=1.3466005325317383, train_acc=0.3374326145552561, test_loss=1.3934732675552368, test_acc=0.2856396321070234\n",
            "Epoch 94 : train_loss=1.3491169214248657, train_acc=0.334400269541779, test_loss=1.3935279846191406, test_acc=0.2842809364548495\n",
            "Epoch 95 : train_loss=1.3479464054107666, train_acc=0.3359164420485175, test_loss=1.3934848308563232, test_acc=0.2869983277591973\n",
            "Epoch 96 : train_loss=1.350060224533081, train_acc=0.330188679245283, test_loss=1.3938242197036743, test_acc=0.2856396321070234\n",
            "Epoch 97 : train_loss=1.3494091033935547, train_acc=0.33086253369272234, test_loss=1.393365740776062, test_acc=0.28971571906354515\n",
            "Epoch 98 : train_loss=1.3489558696746826, train_acc=0.3349898921832884, test_loss=1.3935389518737793, test_acc=0.2869983277591973\n",
            "Epoch 99 : train_loss=1.3480947017669678, train_acc=0.3361691374663073, test_loss=1.3936266899108887, test_acc=0.28971571906354515\n"
          ]
        },
        {
          "data": {
            "text/plain": [
              "Sequential(\n",
              "  (0): Conv1d(1, 1, kernel_size=(4,), stride=(1,), padding=same)\n",
              "  (1): ReLU()\n",
              "  (2): Conv1d(1, 1, kernel_size=(4,), stride=(1,), padding=same)\n",
              "  (3): Flatten(start_dim=1, end_dim=-1)\n",
              "  (4): Linear(in_features=64, out_features=4, bias=True)\n",
              "  (5): LogSoftmax(dim=1)\n",
              ")"
            ]
          },
          "execution_count": 81,
          "metadata": {},
          "output_type": "execute_result"
        }
      ],
      "source": [
        "train(n_epoch = 100, model = model)"
      ]
    },
    {
      "cell_type": "markdown",
      "metadata": {},
      "source": [
        "## Make a prediction and project to the micro:bit"
      ]
    },
    {
      "cell_type": "code",
      "execution_count": 87,
      "metadata": {
        "id": "5iWRV_jfKLYx"
      },
      "outputs": [
        {
          "data": {
            "text/plain": [
              "[<matplotlib.lines.Line2D at 0x14888e740>]"
            ]
          },
          "execution_count": 87,
          "metadata": {},
          "output_type": "execute_result"
        },
        {
          "data": {
            "image/png": "[encoded data removed]",
            "text/plain": [
              "<Figure size 640x480 with 1 Axes>"
            ]
          },
          "metadata": {},
          "output_type": "display_data"
        }
      ],
      "source": [
        "a_clip = X[0]\n",
        "plt.plot(a_clip.flatten())"
      ]
    },
    {
      "cell_type": "code",
      "execution_count": 103,
      "metadata": {},
      "outputs": [
        {
          "data": {
            "text/plain": [
              "'calm'"
            ]
          },
          "execution_count": 103,
          "metadata": {},
          "output_type": "execute_result"
        }
      ],
      "source": [
        "prediction = model(torch.tensor(np.expand_dims(a_clip, 1)).float())\n",
        "prediction = torch.softmax(prediction, dim = 1).detach().numpy()\n",
        "prediction = int(np.argmax(prediction, axis = 1)[0])\n",
        "\n",
        "GAMES[prediction]"
      ]
    },
    {
      "cell_type": "code",
      "execution_count": null,
      "metadata": {},
      "outputs": [],
      "source": [
        "# TODO: your code for projecting to the micro:bit\n",
        "# ..."
      ]
    }
  ],
  "metadata": {
    "colab": {
      "provenance": []
    },
    "kernelspec": {
      "display_name": "emos",
      "language": "python",
      "name": "python3"
    },
    "language_info": {
      "codemirror_mode": {
        "name": "ipython",
        "version": 3
      },
      "file_extension": ".py",
      "mimetype": "text/x-python",
      "name": "python",
      "nbconvert_exporter": "python",
      "pygments_lexer": "ipython3",
      "version": "3.10.18"
    }
  },
  "nbformat": 4,
  "nbformat_minor": 0
}
