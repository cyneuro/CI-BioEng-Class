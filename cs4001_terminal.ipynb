{
  "cells": [
    {
      "cell_type": "markdown",
      "metadata": {},
      "source": [
        "<a target=\"_blank\" href=\"https://colab.research.google.com/github/cyneuro/CI-BioEng-Class/blob/main/cs4001_terminal.ipynb\">\n",
        "  <img src=\"https://colab.research.google.com/assets/colab-badge.svg\" alt=\"Open In Colab\"/>\n",
        "</a>"
      ]
    },
    {
      "cell_type": "markdown",
      "metadata": {
        "id": "6Bqzm047k1RD"
      },
      "source": [
        "# The Unix Terminal"
      ]
    },
    {
      "cell_type": "markdown",
      "metadata": {
        "id": "NpOiSFdBk471"
      },
      "source": [
        "This notebook is based on this [tutorial](https://ubuntu.com/tutorials/command-line-for-beginners#1-overview) and covers basics of using the Unix Terminal. The notebook is designed to run in Google Colab."
      ]
    },
    {
      "cell_type": "markdown",
      "metadata": {
        "id": "k_Y2ZGBagJPH"
      },
      "source": [
        "## Overview and history\n",
        "\n",
        "Read sections 1-2 from the [tutorial](https://ubuntu.com/tutorials/command-line-for-beginners#1-overview)."
      ]
    },
    {
      "cell_type": "markdown",
      "metadata": {
        "id": "FfGhm2l_jA4h"
      },
      "source": [
        "## The Terminal in different operating environments\n",
        "\n",
        "As you learned from the previous section, Unix-based systems (e.g., Linux or Mac) have a built-in **Terminal** (or **the command line**) which allows the user to interact with the operating system by issuing specific commands (`ls`, `cd`, etc.). Operating systems with other architectures, e.g., MS Windows, have their own built-in Terminals as well (e.g., PowerShell), and they use a different set of commands ([check this](https://www.geeksforgeeks.org/linux-vs-windows-commands/)). Since the majority of servers and HPC enivronments are based on Linux, here we focus on showcasing the Unix Terminal commands.\n",
        "\n",
        "Since Google Colab runs in a Linux-based environment and Jupyter Notebook supports execution of the Terminal commands, we can emulate the Unix Terminal directly in Google Colab. However, if you have a Linux or Mac machine, you can also follow the steps from the [tutorial](https://ubuntu.com/tutorials/command-line-for-beginners#1-overview) locally. Alternatively, you can install a Unix-based Terminal for MS Windows (check Git Bash for Windows or Windows Subsystem for Linux)."
      ]
    },
    {
      "cell_type": "markdown",
      "metadata": {
        "id": "5_5SEPRVgzjB"
      },
      "source": [
        "## Opening the terminal and navigating the file system\n",
        "\n",
        "Read section 3 from the [tutorial](https://ubuntu.com/tutorials/command-line-for-beginners#1-overview) to get a feel of how you would open the Terminal on a real machine and learn about locating yourself in the file system.\n",
        "\n",
        "To run the Terminal commands in Jupyter Notebook, put \"!\" or \"%\" before the command. E.g., running\n",
        "\n",
        "> pwd\n",
        "\n",
        "in the Unix Terminal is equivalent to running\n",
        "\n",
        "> !pwd\n",
        "\n",
        "in Google Colab. The difference is that \"!\" creates a new process and executes the command, i.e., changes are not saved, while \"%\" executes the command on the notebook's process and saves the changes. Consequently, \"!\" and \"%\" are equivalent for transient (e.g., info-providing) commands such as `pwd`:\n"
      ]
    },
    {
      "cell_type": "code",
      "execution_count": 6,
      "metadata": {
        "colab": {
          "base_uri": "https://localhost:8080/"
        },
        "id": "l5gsrDNpk4IE",
        "outputId": "9d278499-f9ec-476c-9e0f-47849c49f729"
      },
      "outputs": [
        {
          "name": "stdout",
          "output_type": "stream",
          "text": [
            "/content\n"
          ]
        }
      ],
      "source": [
        "!pwd"
      ]
    },
    {
      "cell_type": "code",
      "execution_count": 7,
      "metadata": {
        "colab": {
          "base_uri": "https://localhost:8080/",
          "height": 35
        },
        "id": "GMMuhD9an0Vg",
        "outputId": "e61a7214-fb08-4387-85f1-5be6ef74417c"
      },
      "outputs": [
        {
          "data": {
            "application/vnd.google.colaboratory.intrinsic+json": {
              "type": "string"
            },
            "text/plain": [
              "'/content'"
            ]
          },
          "execution_count": 7,
          "metadata": {},
          "output_type": "execute_result"
        }
      ],
      "source": [
        "%pwd"
      ]
    },
    {
      "cell_type": "markdown",
      "metadata": {
        "id": "K6uJ75PomS4E"
      },
      "source": [
        "Note that Google Colab's default directory is `/content`, not `/home/mark` as in the [tutorial](https://ubuntu.com/tutorials/command-line-for-beginners#1-overview). You can visualize the file system by clicking the \"Files\" tab on the left. Here are some more examples."
      ]
    },
    {
      "cell_type": "code",
      "execution_count": 8,
      "metadata": {
        "colab": {
          "base_uri": "https://localhost:8080/"
        },
        "id": "SZ1hcsiElO05",
        "outputId": "23a80c3e-e4da-4c24-bc8b-a03dcc440f68"
      },
      "outputs": [
        {
          "name": "stdout",
          "output_type": "stream",
          "text": [
            "/content\n"
          ]
        }
      ],
      "source": [
        "!cd /\n",
        "!pwd"
      ]
    },
    {
      "cell_type": "code",
      "execution_count": 12,
      "metadata": {
        "colab": {
          "base_uri": "https://localhost:8080/",
          "height": 52
        },
        "id": "hQKQ2ZB6nDgr",
        "outputId": "9e641cac-69b4-478c-86a1-3121ccfeba0d"
      },
      "outputs": [
        {
          "name": "stdout",
          "output_type": "stream",
          "text": [
            "/\n"
          ]
        },
        {
          "data": {
            "application/vnd.google.colaboratory.intrinsic+json": {
              "type": "string"
            },
            "text/plain": [
              "'/'"
            ]
          },
          "execution_count": 12,
          "metadata": {},
          "output_type": "execute_result"
        }
      ],
      "source": [
        "%cd /\n",
        "%pwd"
      ]
    },
    {
      "cell_type": "markdown",
      "metadata": {
        "id": "2I6xXPqRoLEh"
      },
      "source": [
        "**Exercise 1:** Explain why \"!\" did not produce the same result as in the [tutorial](https://ubuntu.com/tutorials/command-line-for-beginners#1-overview), but \"%\" did.\n",
        "\n",
        "[Your answer here]"
      ]
    },
    {
      "cell_type": "code",
      "execution_count": 13,
      "metadata": {
        "colab": {
          "base_uri": "https://localhost:8080/",
          "height": 52
        },
        "id": "MDyahwbvnGrj",
        "outputId": "e43cdfa9-bc27-42c8-ed6b-fed292a5b192"
      },
      "outputs": [
        {
          "name": "stdout",
          "output_type": "stream",
          "text": [
            "/home\n"
          ]
        },
        {
          "data": {
            "application/vnd.google.colaboratory.intrinsic+json": {
              "type": "string"
            },
            "text/plain": [
              "'/home'"
            ]
          },
          "execution_count": 13,
          "metadata": {},
          "output_type": "execute_result"
        }
      ],
      "source": [
        "%cd home\n",
        "%pwd"
      ]
    },
    {
      "cell_type": "code",
      "execution_count": 14,
      "metadata": {
        "colab": {
          "base_uri": "https://localhost:8080/",
          "height": 52
        },
        "id": "cUrB2YfLoYXo",
        "outputId": "f7b85b93-8e91-4568-8917-3978f6d902e9"
      },
      "outputs": [
        {
          "name": "stdout",
          "output_type": "stream",
          "text": [
            "/\n"
          ]
        },
        {
          "data": {
            "application/vnd.google.colaboratory.intrinsic+json": {
              "type": "string"
            },
            "text/plain": [
              "'/'"
            ]
          },
          "execution_count": 14,
          "metadata": {},
          "output_type": "execute_result"
        }
      ],
      "source": [
        "%cd ..\n",
        "%pwd"
      ]
    },
    {
      "cell_type": "code",
      "execution_count": 15,
      "metadata": {
        "colab": {
          "base_uri": "https://localhost:8080/",
          "height": 52
        },
        "id": "fzXJ1PFCobH6",
        "outputId": "b2721d77-96e9-40ed-8faa-62e52ec4e9a4"
      },
      "outputs": [
        {
          "name": "stdout",
          "output_type": "stream",
          "text": [
            "/root\n"
          ]
        },
        {
          "data": {
            "application/vnd.google.colaboratory.intrinsic+json": {
              "type": "string"
            },
            "text/plain": [
              "'/root'"
            ]
          },
          "execution_count": 15,
          "metadata": {},
          "output_type": "execute_result"
        }
      ],
      "source": [
        "%cd\n",
        "%pwd"
      ]
    },
    {
      "cell_type": "markdown",
      "metadata": {
        "id": "wQ6B5huxo20j"
      },
      "source": [
        "**Exercise 2:** Use the [tutorial](https://ubuntu.com/tutorials/command-line-for-beginners#1-overview) to find out what your user name is in Colab's file system."
      ]
    },
    {
      "cell_type": "code",
      "execution_count": null,
      "metadata": {
        "id": "dwWsg3KooveC"
      },
      "outputs": [],
      "source": [
        "# Your answer here"
      ]
    },
    {
      "cell_type": "markdown",
      "metadata": {
        "id": "Yu3Z8r_kpecZ"
      },
      "source": [
        "**Exercise 3:** What is the name of the **home** directory in Colab's file system? (Hint: it is neither the default directory from above, nor `/home`)."
      ]
    },
    {
      "cell_type": "code",
      "execution_count": 20,
      "metadata": {
        "id": "XQybqwINpezC"
      },
      "outputs": [],
      "source": [
        "# Your answer here"
      ]
    },
    {
      "cell_type": "markdown",
      "metadata": {
        "id": "munwafnJpD_E"
      },
      "source": [
        "## Creating folders and files"
      ]
    },
    {
      "cell_type": "markdown",
      "metadata": {
        "id": "ZFSo27_3pMNi"
      },
      "source": [
        "First, we return back to the default directory:"
      ]
    },
    {
      "cell_type": "code",
      "execution_count": 24,
      "metadata": {
        "colab": {
          "base_uri": "https://localhost:8080/"
        },
        "id": "jx39toAqpK4w",
        "outputId": "bd941e7a-4d9a-4e2c-9a11-9b3c4489971b"
      },
      "outputs": [
        {
          "name": "stdout",
          "output_type": "stream",
          "text": [
            "/content\n"
          ]
        }
      ],
      "source": [
        "%cd /content/"
      ]
    },
    {
      "cell_type": "markdown",
      "metadata": {
        "id": "7q8txvROqIA0"
      },
      "source": [
        "Read section 4 from the [tutorial](https://ubuntu.com/tutorials/command-line-for-beginners#4-creating-folders-and-files). Here are some examples:"
      ]
    },
    {
      "cell_type": "code",
      "execution_count": 26,
      "metadata": {
        "id": "NdZ3ti7XpURN"
      },
      "outputs": [],
      "source": [
        "!mkdir tutorial"
      ]
    },
    {
      "cell_type": "markdown",
      "metadata": {
        "id": "mWc84Lp-qoTd"
      },
      "source": [
        "To see the created folder, click the \"Refresh\" button on the left."
      ]
    },
    {
      "cell_type": "markdown",
      "metadata": {
        "id": "A80J5vRPqus5"
      },
      "source": [
        "**Exercise 4:** Why did \"!\" work in this case?\n",
        "\n",
        "[Your answer here]"
      ]
    },
    {
      "cell_type": "code",
      "execution_count": 27,
      "metadata": {
        "colab": {
          "base_uri": "https://localhost:8080/"
        },
        "id": "01aUguQEqdpW",
        "outputId": "a8c02702-5584-482e-c860-b201f50aa921"
      },
      "outputs": [
        {
          "name": "stdout",
          "output_type": "stream",
          "text": [
            "sample_data  tutorial\n"
          ]
        }
      ],
      "source": [
        "!ls"
      ]
    },
    {
      "cell_type": "code",
      "execution_count": 29,
      "metadata": {
        "colab": {
          "base_uri": "https://localhost:8080/"
        },
        "id": "AZfU8xYErDqk",
        "outputId": "dcf2ea80-018a-4910-df46-6bedd2e6c076"
      },
      "outputs": [
        {
          "name": "stdout",
          "output_type": "stream",
          "text": [
            "This is a test\n"
          ]
        }
      ],
      "source": [
        "!echo \"This is a test\" > test_1.txt\n",
        "!cat test_1.txt"
      ]
    },
    {
      "cell_type": "markdown",
      "metadata": {
        "id": "Hnmw10sCq4GF"
      },
      "source": [
        "**Exercise 5:** Repeat the steps from section 4. Treat `/content/` as your working directory, i.e., create all folders and files inside of it."
      ]
    },
    {
      "cell_type": "code",
      "execution_count": null,
      "metadata": {
        "id": "yxrnOzIusK5k"
      },
      "outputs": [],
      "source": [
        "# Your answer here\n",
        "# You can add as many cells as you want"
      ]
    },
    {
      "cell_type": "markdown",
      "metadata": {
        "id": "ghq5hHxRrr_V"
      },
      "source": [
        "## Moving and manipulating files"
      ]
    },
    {
      "cell_type": "markdown",
      "metadata": {
        "id": "wm0CC9ukruQT"
      },
      "source": [
        "Read section 5 from the [tutorial](https://ubuntu.com/tutorials/command-line-for-beginners#5-moving-and-manipulating-files).\n",
        "\n"
      ]
    },
    {
      "cell_type": "markdown",
      "metadata": {
        "id": "pryXMwlTsem0"
      },
      "source": [
        "**Exercise 6:** Repeat the steps from section 5. As before, treat `/content/` as your working directory."
      ]
    },
    {
      "cell_type": "code",
      "execution_count": null,
      "metadata": {
        "id": "vUC68Hveqj3h"
      },
      "outputs": [],
      "source": [
        "# Your answer here\n",
        "# You can add as many cells as you want"
      ]
    },
    {
      "cell_type": "markdown",
      "metadata": {
        "id": "gmFQWvGss4n8"
      },
      "source": [
        "## A bit of plumbing"
      ]
    },
    {
      "cell_type": "markdown",
      "metadata": {
        "id": "ICuFe37Qs7xc"
      },
      "source": [
        "Read section 6 from the [tutorial](https://ubuntu.com/tutorials/command-line-for-beginners#6-a-bit-of-plumbing).\n",
        "\n",
        "Once again, you will have to repeat the steps from the section. However, if you try to run the `man` command, you will probably encounter an error."
      ]
    },
    {
      "cell_type": "code",
      "execution_count": null,
      "metadata": {
        "id": "MF8AIgkotPh0"
      },
      "outputs": [],
      "source": [
        "!man uniq"
      ]
    },
    {
      "cell_type": "markdown",
      "metadata": {
        "id": "XWjXoM3-tRMc"
      },
      "source": [
        "To solve this error, run the following (you will have to type \"y\" in the provided input window with the black rectangle):"
      ]
    },
    {
      "cell_type": "code",
      "execution_count": 35,
      "metadata": {
        "colab": {
          "base_uri": "https://localhost:8080/"
        },
        "id": "x3XABCeksp62",
        "outputId": "4487c2d2-345b-4a4f-e141-c7c942ae18d5"
      },
      "outputs": [
        {
          "name": "stdout",
          "output_type": "stream",
          "text": [
            "This system has been minimized by removing packages and content that are\n",
            "not required on a system that users do not log into.\n",
            "\n",
            "This script restores content and packages that are found on a default\n",
            "Ubuntu server system in order to make this system more suitable for\n",
            "interactive use.\n",
            "\n",
            "Reinstallation of packages may fail due to changes to the system\n",
            "configuration, the presence of third-party packages, or for other\n",
            "reasons.\n",
            "\n",
            "This operation may take some time.\n",
            "\n",
            "Would you like to continue? [y/N] y\n",
            "\n"
          ]
        }
      ],
      "source": [
        "!unminimize"
      ]
    },
    {
      "cell_type": "markdown",
      "metadata": {
        "id": "nz0ZzNSLtf-p"
      },
      "source": [
        "**Exercise 7:** repeat the steps from section 6."
      ]
    },
    {
      "cell_type": "code",
      "execution_count": null,
      "metadata": {
        "id": "oDb0BKHtvp8F"
      },
      "outputs": [],
      "source": [
        "# Your answer here\n",
        "# You can add as many cells as you want"
      ]
    },
    {
      "cell_type": "markdown",
      "metadata": {
        "id": "j0W6V-QstpMf"
      },
      "source": [
        "## The command line and the superuser"
      ]
    },
    {
      "cell_type": "markdown",
      "metadata": {
        "id": "YZ0Iyy_0tqH2"
      },
      "source": [
        "Read section 7 from the [tutorial](https://ubuntu.com/tutorials/command-line-for-beginners#7-the-command-line-and-the-superuser)."
      ]
    },
    {
      "cell_type": "markdown",
      "metadata": {
        "id": "a7dCXeaht6bE"
      },
      "source": [
        "**Exercise 8:** The `sudo` command is crucial when setting up environments on a local machine or a VM. Explain what the `sudo` command does.\n",
        "\n",
        "[Your answer here]"
      ]
    },
    {
      "cell_type": "markdown",
      "metadata": {
        "id": "2h8uKTPkuOkN"
      },
      "source": [
        "Here is an example:"
      ]
    },
    {
      "cell_type": "code",
      "execution_count": 36,
      "metadata": {
        "colab": {
          "base_uri": "https://localhost:8080/"
        },
        "id": "4FVyi5ans0RN",
        "outputId": "14290822-67f2-4fc6-8dcd-5107bdb341bc"
      },
      "outputs": [
        {
          "name": "stdout",
          "output_type": "stream",
          "text": [
            "root\n"
          ]
        }
      ],
      "source": [
        "!sudo whoami"
      ]
    },
    {
      "cell_type": "code",
      "execution_count": null,
      "metadata": {
        "id": "xOPwaE26uvjB"
      },
      "outputs": [],
      "source": [
        "!sudo apt install tree"
      ]
    },
    {
      "cell_type": "code",
      "execution_count": null,
      "metadata": {
        "id": "7YDVSi9vvA5t"
      },
      "outputs": [],
      "source": [
        "!tree"
      ]
    },
    {
      "cell_type": "markdown",
      "metadata": {
        "id": "yjqJ4w2vukYg"
      },
      "source": [
        "**Exercise 9:** repeat the remaining steps from section 7."
      ]
    },
    {
      "cell_type": "code",
      "execution_count": null,
      "metadata": {
        "id": "Pka_v5AJvoc-"
      },
      "outputs": [],
      "source": [
        "# Your answer here\n",
        "# You can add as many cells as you want"
      ]
    },
    {
      "cell_type": "markdown",
      "metadata": {
        "id": "TWOwEMhcvF08"
      },
      "source": [
        "## Conclusion"
      ]
    },
    {
      "cell_type": "markdown",
      "metadata": {
        "id": "Yo7hdVEdvJJU"
      },
      "source": [
        "Read sections 8 and 9 from the [tutorial](https://ubuntu.com/tutorials/command-line-for-beginners)."
      ]
    },
    {
      "cell_type": "markdown",
      "metadata": {
        "id": "qOViqNE0vc7O"
      },
      "source": [
        "**Exercise 10:** Demonstrate the usage of any command not mentioned in the [tutorial](https://ubuntu.com/tutorials/command-line-for-beginners)."
      ]
    },
    {
      "cell_type": "code",
      "execution_count": null,
      "metadata": {
        "id": "18f3ekWuvHs7"
      },
      "outputs": [],
      "source": [
        "# Your answer here\n",
        "# You can add as many cells as you want"
      ]
    }
  ],
  "metadata": {
    "colab": {
      "provenance": []
    },
    "kernelspec": {
      "display_name": "Python 3",
      "name": "python3"
    },
    "language_info": {
      "name": "python"
    }
  },
  "nbformat": 4,
  "nbformat_minor": 0
}
