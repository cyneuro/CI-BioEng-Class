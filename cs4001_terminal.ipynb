{
  "nbformat": 4,
  "nbformat_minor": 0,
  "metadata": {
    "colab": {
      "provenance": []
    },
    "kernelspec": {
      "name": "python3",
      "display_name": "Python 3"
    },
    "language_info": {
      "name": "python"
    }
  },
  "cells": [
    {
      "cell_type": "markdown",
      "source": [
        "# The Unix Terminal"
      ],
      "metadata": {
        "id": "6Bqzm047k1RD"
      }
    },
    {
      "cell_type": "markdown",
      "source": [
        "This notebook is based on this [tutorial](https://ubuntu.com/tutorials/command-line-for-beginners#1-overview) and covers basics of using the Unix Terminal. The notebook is designed to run in Google Colab."
      ],
      "metadata": {
        "id": "NpOiSFdBk471"
      }
    },
    {
      "cell_type": "markdown",
      "source": [
        "## Overview and history\n",
        "\n",
        "Read sections 1-2 from the [tutorial](https://ubuntu.com/tutorials/command-line-for-beginners#1-overview)."
      ],
      "metadata": {
        "id": "k_Y2ZGBagJPH"
      }
    },
    {
      "cell_type": "markdown",
      "source": [
        "## The Terminal in different operating environments\n",
        "\n",
        "As you learned from the previous section, Unix-based systems (e.g., Linux or Mac) have a built-in **Terminal** (or **the command line**) which allows the user to interact with the operating system by issuing specific commands (`ls`, `cd`, etc.). Operating systems with other architectures, e.g., MS Windows, have their own built-in Terminals as well (e.g., PowerShell), and they use a different set of commands ([check this](https://www.geeksforgeeks.org/linux-vs-windows-commands/)). Since the majority of servers and HPC enivronments are based on Linux, here we focus on showcasing the Unix Terminal commands.\n",
        "\n",
        "Since Google Colab runs in a Linux-based environment and Jupyter Notebook supports execution of the Terminal commands, we can emulate the Unix Terminal directly in Google Colab. However, if you have a Linux or Mac machine, you can also follow the steps from the [tutorial](https://ubuntu.com/tutorials/command-line-for-beginners#1-overview) locally. Alternatively, you can install a Unix-based Terminal for MS Windows (check Git Bash for Windows or Windows Subsystem for Linux)."
      ],
      "metadata": {
        "id": "FfGhm2l_jA4h"
      }
    },
    {
      "cell_type": "markdown",
      "source": [
        "## Opening the terminal and navigating the file system\n",
        "\n",
        "Read section 3 from the [tutorial](https://ubuntu.com/tutorials/command-line-for-beginners#1-overview) to get a feel of how you would open the Terminal on a real machine and learn about locating yourself in the file system.\n",
        "\n",
        "To run the Terminal commands in Jupyter Notebook, put \"!\" or \"%\" before the command. E.g., running\n",
        "\n",
        "> pwd\n",
        "\n",
        "in the Unix Terminal is equivalent to running\n",
        "\n",
        "> !pwd\n",
        "\n",
        "in Google Colab. The difference is that \"!\" creates a new process and executes the command, i.e., changes are not saved, while \"%\" executes the command on the notebook's process and saves the changes. Consequently, \"!\" and \"%\" are equivalent for transient (e.g., info-providing) commands such as `pwd`:\n"
      ],
      "metadata": {
        "id": "5_5SEPRVgzjB"
      }
    },
    {
      "cell_type": "code",
      "source": [
        "!pwd"
      ],
      "metadata": {
        "colab": {
          "base_uri": "https://localhost:8080/"
        },
        "id": "l5gsrDNpk4IE",
        "outputId": "9d278499-f9ec-476c-9e0f-47849c49f729"
      },
      "execution_count": 6,
      "outputs": [
        {
          "output_type": "stream",
          "name": "stdout",
          "text": [
            "/content\n"
          ]
        }
      ]
    },
    {
      "cell_type": "code",
      "source": [
        "%pwd"
      ],
      "metadata": {
        "colab": {
          "base_uri": "https://localhost:8080/",
          "height": 35
        },
        "id": "GMMuhD9an0Vg",
        "outputId": "e61a7214-fb08-4387-85f1-5be6ef74417c"
      },
      "execution_count": 7,
      "outputs": [
        {
          "output_type": "execute_result",
          "data": {
            "text/plain": [
              "'/content'"
            ],
            "application/vnd.google.colaboratory.intrinsic+json": {
              "type": "string"
            }
          },
          "metadata": {},
          "execution_count": 7
        }
      ]
    },
    {
      "cell_type": "markdown",
      "source": [
        "Note that Google Colab's default directory is `/content`, not `/home/mark` as in the [tutorial](https://ubuntu.com/tutorials/command-line-for-beginners#1-overview). You can visualize the file system by clicking the \"Files\" tab on the left. Here are some more examples."
      ],
      "metadata": {
        "id": "K6uJ75PomS4E"
      }
    },
    {
      "cell_type": "code",
      "source": [
        "!cd /\n",
        "!pwd"
      ],
      "metadata": {
        "colab": {
          "base_uri": "https://localhost:8080/"
        },
        "id": "SZ1hcsiElO05",
        "outputId": "23a80c3e-e4da-4c24-bc8b-a03dcc440f68"
      },
      "execution_count": 8,
      "outputs": [
        {
          "output_type": "stream",
          "name": "stdout",
          "text": [
            "/content\n"
          ]
        }
      ]
    },
    {
      "cell_type": "code",
      "source": [
        "%cd /\n",
        "%pwd"
      ],
      "metadata": {
        "colab": {
          "base_uri": "https://localhost:8080/",
          "height": 52
        },
        "id": "hQKQ2ZB6nDgr",
        "outputId": "9e641cac-69b4-478c-86a1-3121ccfeba0d"
      },
      "execution_count": 12,
      "outputs": [
        {
          "output_type": "stream",
          "name": "stdout",
          "text": [
            "/\n"
          ]
        },
        {
          "output_type": "execute_result",
          "data": {
            "text/plain": [
              "'/'"
            ],
            "application/vnd.google.colaboratory.intrinsic+json": {
              "type": "string"
            }
          },
          "metadata": {},
          "execution_count": 12
        }
      ]
    },
    {
      "cell_type": "markdown",
      "source": [
        "**Exercise 1:** Explain why \"!\" did not produce the same result as in the [tutorial](https://ubuntu.com/tutorials/command-line-for-beginners#1-overview), but \"%\" did.\n",
        "\n",
        "[Your answer here]"
      ],
      "metadata": {
        "id": "2I6xXPqRoLEh"
      }
    },
    {
      "cell_type": "code",
      "source": [
        "%cd home\n",
        "%pwd"
      ],
      "metadata": {
        "colab": {
          "base_uri": "https://localhost:8080/",
          "height": 52
        },
        "id": "MDyahwbvnGrj",
        "outputId": "e43cdfa9-bc27-42c8-ed6b-fed292a5b192"
      },
      "execution_count": 13,
      "outputs": [
        {
          "output_type": "stream",
          "name": "stdout",
          "text": [
            "/home\n"
          ]
        },
        {
          "output_type": "execute_result",
          "data": {
            "text/plain": [
              "'/home'"
            ],
            "application/vnd.google.colaboratory.intrinsic+json": {
              "type": "string"
            }
          },
          "metadata": {},
          "execution_count": 13
        }
      ]
    },
    {
      "cell_type": "code",
      "source": [
        "%cd ..\n",
        "%pwd"
      ],
      "metadata": {
        "colab": {
          "base_uri": "https://localhost:8080/",
          "height": 52
        },
        "id": "cUrB2YfLoYXo",
        "outputId": "f7b85b93-8e91-4568-8917-3978f6d902e9"
      },
      "execution_count": 14,
      "outputs": [
        {
          "output_type": "stream",
          "name": "stdout",
          "text": [
            "/\n"
          ]
        },
        {
          "output_type": "execute_result",
          "data": {
            "text/plain": [
              "'/'"
            ],
            "application/vnd.google.colaboratory.intrinsic+json": {
              "type": "string"
            }
          },
          "metadata": {},
          "execution_count": 14
        }
      ]
    },
    {
      "cell_type": "code",
      "source": [
        "%cd\n",
        "%pwd"
      ],
      "metadata": {
        "colab": {
          "base_uri": "https://localhost:8080/",
          "height": 52
        },
        "id": "fzXJ1PFCobH6",
        "outputId": "b2721d77-96e9-40ed-8faa-62e52ec4e9a4"
      },
      "execution_count": 15,
      "outputs": [
        {
          "output_type": "stream",
          "name": "stdout",
          "text": [
            "/root\n"
          ]
        },
        {
          "output_type": "execute_result",
          "data": {
            "text/plain": [
              "'/root'"
            ],
            "application/vnd.google.colaboratory.intrinsic+json": {
              "type": "string"
            }
          },
          "metadata": {},
          "execution_count": 15
        }
      ]
    },
    {
      "cell_type": "markdown",
      "source": [
        "**Exercise 2:** Use the [tutorial](https://ubuntu.com/tutorials/command-line-for-beginners#1-overview) to find out what your user name is in Colab's file system."
      ],
      "metadata": {
        "id": "wQ6B5huxo20j"
      }
    },
    {
      "cell_type": "code",
      "source": [
        "# Your answer here"
      ],
      "metadata": {
        "id": "dwWsg3KooveC"
      },
      "execution_count": null,
      "outputs": []
    },
    {
      "cell_type": "markdown",
      "source": [
        "**Exercise 3:** What is the name of the **home** directory in Colab's file system? (Hint: it is neither the default directory from above, nor `/home`)."
      ],
      "metadata": {
        "id": "Yu3Z8r_kpecZ"
      }
    },
    {
      "cell_type": "code",
      "source": [
        "# Your answer here"
      ],
      "metadata": {
        "id": "XQybqwINpezC"
      },
      "execution_count": 20,
      "outputs": []
    },
    {
      "cell_type": "markdown",
      "source": [
        "## Creating folders and files"
      ],
      "metadata": {
        "id": "munwafnJpD_E"
      }
    },
    {
      "cell_type": "markdown",
      "source": [
        "First, we return back to the default directory:"
      ],
      "metadata": {
        "id": "ZFSo27_3pMNi"
      }
    },
    {
      "cell_type": "code",
      "source": [
        "%cd /content/"
      ],
      "metadata": {
        "colab": {
          "base_uri": "https://localhost:8080/"
        },
        "id": "jx39toAqpK4w",
        "outputId": "bd941e7a-4d9a-4e2c-9a11-9b3c4489971b"
      },
      "execution_count": 24,
      "outputs": [
        {
          "output_type": "stream",
          "name": "stdout",
          "text": [
            "/content\n"
          ]
        }
      ]
    },
    {
      "cell_type": "markdown",
      "source": [
        "Read section 4 from the [tutorial](https://ubuntu.com/tutorials/command-line-for-beginners#4-creating-folders-and-files). Here are some examples:"
      ],
      "metadata": {
        "id": "7q8txvROqIA0"
      }
    },
    {
      "cell_type": "code",
      "source": [
        "!mkdir tutorial"
      ],
      "metadata": {
        "id": "NdZ3ti7XpURN"
      },
      "execution_count": 26,
      "outputs": []
    },
    {
      "cell_type": "markdown",
      "source": [
        "To see the created folder, click the \"Refresh\" button on the left."
      ],
      "metadata": {
        "id": "mWc84Lp-qoTd"
      }
    },
    {
      "cell_type": "markdown",
      "source": [
        "**Exercise 4:** Why did \"!\" work in this case?\n",
        "\n",
        "[Your answer here]"
      ],
      "metadata": {
        "id": "A80J5vRPqus5"
      }
    },
    {
      "cell_type": "code",
      "source": [
        "!ls"
      ],
      "metadata": {
        "colab": {
          "base_uri": "https://localhost:8080/"
        },
        "id": "01aUguQEqdpW",
        "outputId": "a8c02702-5584-482e-c860-b201f50aa921"
      },
      "execution_count": 27,
      "outputs": [
        {
          "output_type": "stream",
          "name": "stdout",
          "text": [
            "sample_data  tutorial\n"
          ]
        }
      ]
    },
    {
      "cell_type": "code",
      "source": [
        "!echo \"This is a test\" > test_1.txt\n",
        "!cat test_1.txt"
      ],
      "metadata": {
        "colab": {
          "base_uri": "https://localhost:8080/"
        },
        "id": "AZfU8xYErDqk",
        "outputId": "dcf2ea80-018a-4910-df46-6bedd2e6c076"
      },
      "execution_count": 29,
      "outputs": [
        {
          "output_type": "stream",
          "name": "stdout",
          "text": [
            "This is a test\n"
          ]
        }
      ]
    },
    {
      "cell_type": "markdown",
      "source": [
        "**Exercise 5:** Repeat the steps from section 4. Treat `/content/` as your working directory, i.e., create all folders and files inside of it."
      ],
      "metadata": {
        "id": "Hnmw10sCq4GF"
      }
    },
    {
      "cell_type": "code",
      "source": [
        "# Your answer here\n",
        "# You can add as many cells as you want"
      ],
      "metadata": {
        "id": "yxrnOzIusK5k"
      },
      "execution_count": null,
      "outputs": []
    },
    {
      "cell_type": "markdown",
      "source": [
        "## Moving and manipulating files"
      ],
      "metadata": {
        "id": "ghq5hHxRrr_V"
      }
    },
    {
      "cell_type": "markdown",
      "source": [
        "Read section 5 from the [tutorial](https://ubuntu.com/tutorials/command-line-for-beginners#5-moving-and-manipulating-files).\n",
        "\n"
      ],
      "metadata": {
        "id": "wm0CC9ukruQT"
      }
    },
    {
      "cell_type": "markdown",
      "source": [
        "**Exercise 6:** Repeat the steps from section 5. As before, treat `/content/` as your working directory."
      ],
      "metadata": {
        "id": "pryXMwlTsem0"
      }
    },
    {
      "cell_type": "code",
      "source": [
        "# Your answer here\n",
        "# You can add as many cells as you want"
      ],
      "metadata": {
        "id": "vUC68Hveqj3h"
      },
      "execution_count": null,
      "outputs": []
    },
    {
      "cell_type": "markdown",
      "source": [
        "## A bit of plumbing"
      ],
      "metadata": {
        "id": "gmFQWvGss4n8"
      }
    },
    {
      "cell_type": "markdown",
      "source": [
        "Read section 6 from the [tutorial](https://ubuntu.com/tutorials/command-line-for-beginners#6-a-bit-of-plumbing).\n",
        "\n",
        "Once again, you will have to repeat the steps from the section. However, if you try to run the `man` command, you will probably encounter an error."
      ],
      "metadata": {
        "id": "ICuFe37Qs7xc"
      }
    },
    {
      "cell_type": "code",
      "source": [
        "!man uniq"
      ],
      "metadata": {
        "id": "MF8AIgkotPh0"
      },
      "execution_count": null,
      "outputs": []
    },
    {
      "cell_type": "markdown",
      "source": [
        "To solve this error, run the following (you will have to type \"y\" in the provided input window with the black rectangle):"
      ],
      "metadata": {
        "id": "XWjXoM3-tRMc"
      }
    },
    {
      "cell_type": "code",
      "source": [
        "!unminimize"
      ],
      "metadata": {
        "colab": {
          "base_uri": "https://localhost:8080/"
        },
        "id": "x3XABCeksp62",
        "outputId": "4487c2d2-345b-4a4f-e141-c7c942ae18d5"
      },
      "execution_count": 35,
      "outputs": [
        {
          "output_type": "stream",
          "name": "stdout",
          "text": [
            "This system has been minimized by removing packages and content that are\n",
            "not required on a system that users do not log into.\n",
            "\n",
            "This script restores content and packages that are found on a default\n",
            "Ubuntu server system in order to make this system more suitable for\n",
            "interactive use.\n",
            "\n",
            "Reinstallation of packages may fail due to changes to the system\n",
            "configuration, the presence of third-party packages, or for other\n",
            "reasons.\n",
            "\n",
            "This operation may take some time.\n",
            "\n",
            "Would you like to continue? [y/N] y\n",
            "\n"
          ]
        }
      ]
    },
    {
      "cell_type": "markdown",
      "source": [
        "**Exercise 7:** repeat the steps from section 6."
      ],
      "metadata": {
        "id": "nz0ZzNSLtf-p"
      }
    },
    {
      "cell_type": "code",
      "source": [
        "# Your answer here\n",
        "# You can add as many cells as you want"
      ],
      "metadata": {
        "id": "oDb0BKHtvp8F"
      },
      "execution_count": null,
      "outputs": []
    },
    {
      "cell_type": "markdown",
      "source": [
        "## The command line and the superuser"
      ],
      "metadata": {
        "id": "j0W6V-QstpMf"
      }
    },
    {
      "cell_type": "markdown",
      "source": [
        "Read section 7 from the [tutorial](https://ubuntu.com/tutorials/command-line-for-beginners#7-the-command-line-and-the-superuser)."
      ],
      "metadata": {
        "id": "YZ0Iyy_0tqH2"
      }
    },
    {
      "cell_type": "markdown",
      "source": [
        "**Exercise 8:** The `sudo` command is crucial when setting up environments on a local machine or a VM. Explain what the `sudo` command does.\n",
        "\n",
        "[Your answer here]"
      ],
      "metadata": {
        "id": "a7dCXeaht6bE"
      }
    },
    {
      "cell_type": "markdown",
      "source": [
        "Here is an example:"
      ],
      "metadata": {
        "id": "2h8uKTPkuOkN"
      }
    },
    {
      "cell_type": "code",
      "source": [
        "!sudo whoami"
      ],
      "metadata": {
        "colab": {
          "base_uri": "https://localhost:8080/"
        },
        "id": "4FVyi5ans0RN",
        "outputId": "14290822-67f2-4fc6-8dcd-5107bdb341bc"
      },
      "execution_count": 36,
      "outputs": [
        {
          "output_type": "stream",
          "name": "stdout",
          "text": [
            "root\n"
          ]
        }
      ]
    },
    {
      "cell_type": "code",
      "source": [
        "!sudo apt install tree"
      ],
      "metadata": {
        "id": "xOPwaE26uvjB"
      },
      "execution_count": null,
      "outputs": []
    },
    {
      "cell_type": "code",
      "source": [
        "!tree"
      ],
      "metadata": {
        "id": "7YDVSi9vvA5t"
      },
      "execution_count": null,
      "outputs": []
    },
    {
      "cell_type": "markdown",
      "source": [
        "**Exercise 9:** repeat the remaining steps from section 7."
      ],
      "metadata": {
        "id": "yjqJ4w2vukYg"
      }
    },
    {
      "cell_type": "code",
      "source": [
        "# Your answer here\n",
        "# You can add as many cells as you want"
      ],
      "metadata": {
        "id": "Pka_v5AJvoc-"
      },
      "execution_count": null,
      "outputs": []
    },
    {
      "cell_type": "markdown",
      "source": [
        "## Conclusion"
      ],
      "metadata": {
        "id": "TWOwEMhcvF08"
      }
    },
    {
      "cell_type": "markdown",
      "source": [
        "Read sections 8 and 9 from the [tutorial](https://ubuntu.com/tutorials/command-line-for-beginners)."
      ],
      "metadata": {
        "id": "Yo7hdVEdvJJU"
      }
    },
    {
      "cell_type": "markdown",
      "source": [
        "**Exercise 10:** Demonstrate the usage of any command not mentioned in the [tutorial](https://ubuntu.com/tutorials/command-line-for-beginners)."
      ],
      "metadata": {
        "id": "qOViqNE0vc7O"
      }
    },
    {
      "cell_type": "code",
      "source": [
        "# Your answer here\n",
        "# You can add as many cells as you want"
      ],
      "metadata": {
        "id": "18f3ekWuvHs7"
      },
      "execution_count": null,
      "outputs": []
    }
  ]
}