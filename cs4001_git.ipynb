{
  "cells": [
    {
      "cell_type": "markdown",
      "metadata": {},
      "source": [
        "<a target=\"_blank\" href=\"https://colab.research.google.com/github/cyneuro/CI-BioEng-Class/blob/main/cs4001_git.ipynb\">\n",
        "  <img src=\"https://colab.research.google.com/assets/colab-badge.svg\" alt=\"Open In Colab\"/>\n",
        "</a>"
      ]
    },
    {
      "cell_type": "markdown",
      "metadata": {
        "id": "hwjpsz55p60v"
      },
      "source": [
        "# Git & GitHub"
      ]
    },
    {
      "cell_type": "markdown",
      "metadata": {
        "id": "-uV1NUz0SLOP"
      },
      "source": [
        "## Version control system (VCS)\n",
        "\n",
        "Git is a VCS which efficiently tracks changes to your files. Git allows you to revert and branch changes instead of creating folders named \"v1\", \"v2\", etc. Git is also designed with collaboration in mind and has a verion conflict resolution mechanism.\n",
        "\n",
        "GitHub is an online platform for sharing Git repositories. Git can be used locally and does not require a GitHub account.\n",
        "\n",
        "Read the following to learn more about Git and Github:\n",
        "- [Step 0: Install git and create a GitHub account ](https://product.hubspot.com/blog/git-and-github-tutorial-for-beginners)\n",
        "- [Git and GitHub Introduction](https://www.w3schools.com/git/git_intro.asp?remote=github)\n",
        "- **(Advanced)** [1.3 Getting Started - What is Git?](https://git-scm.com/book/en/v2/Getting-Started-What-is-Git%3F)."
      ]
    },
    {
      "cell_type": "markdown",
      "metadata": {
        "id": "41P9_cxYVAPg"
      },
      "source": [
        "## Installing Git on a local machine and setting up a GitHub account"
      ]
    },
    {
      "cell_type": "markdown",
      "metadata": {
        "id": "8MBiMc7fVMpz"
      },
      "source": [
        "- To install Git, follow instructions on [this page](https://git-scm.com/book/en/v2/Getting-Started-Installing-Git).\n",
        "- You can create a GitHub account [here](https://github.com/join)."
      ]
    },
    {
      "cell_type": "markdown",
      "metadata": {
        "id": "ztw3DAr6VcAM"
      },
      "source": [
        "## Initializing a repository. Add-commit logic\n",
        "\n",
        "The core concept in Git is repository. A repository is a regular folder with a hidden .git file inside. This file is used by Git to track changes.\n",
        "\n",
        "Whenever you make a change to your repository you have to register it with Git. This is done in 2 steps: first, you **add** (stage) your changes; then you **commit** them.\n",
        "\n",
        "Read [Steps 1-4](https://product.hubspot.com/blog/git-and-github-tutorial-for-beginners) to learn more about repository management. Check how these steps are implemented below:"
      ]
    },
    {
      "cell_type": "code",
      "execution_count": 1,
      "metadata": {
        "colab": {
          "base_uri": "https://localhost:8080/"
        },
        "id": "PsTdBxIqbc9i",
        "outputId": "660cff04-83ca-4854-f11a-206de34e8714"
      },
      "outputs": [
        {
          "name": "stdout",
          "output_type": "stream",
          "text": [
            "/content/myproject\n"
          ]
        }
      ],
      "source": [
        "!mkdir myproject\n",
        "%cd myproject"
      ]
    },
    {
      "cell_type": "code",
      "execution_count": 2,
      "metadata": {
        "colab": {
          "base_uri": "https://localhost:8080/"
        },
        "id": "hYYlARvab3tH",
        "outputId": "a6d8b049-f6d4-4497-b9c1-b4dc2ef9137a"
      },
      "outputs": [
        {
          "name": "stdout",
          "output_type": "stream",
          "text": [
            "\u001b[33mhint: Using 'master' as the name for the initial branch. This default branch name\u001b[m\n",
            "\u001b[33mhint: is subject to change. To configure the initial branch name to use in all\u001b[m\n",
            "\u001b[33mhint: of your new repositories, which will suppress this warning, call:\u001b[m\n",
            "\u001b[33mhint: \u001b[m\n",
            "\u001b[33mhint: \tgit config --global init.defaultBranch <name>\u001b[m\n",
            "\u001b[33mhint: \u001b[m\n",
            "\u001b[33mhint: Names commonly chosen instead of 'master' are 'main', 'trunk' and\u001b[m\n",
            "\u001b[33mhint: 'development'. The just-created branch can be renamed via this command:\u001b[m\n",
            "\u001b[33mhint: \u001b[m\n",
            "\u001b[33mhint: \tgit branch -m <name>\u001b[m\n",
            "Initialized empty Git repository in /content/myproject/.git/\n"
          ]
        }
      ],
      "source": [
        "!git init"
      ]
    },
    {
      "cell_type": "code",
      "execution_count": 3,
      "metadata": {
        "colab": {
          "base_uri": "https://localhost:8080/"
        },
        "id": "gm_C0Q6Zb7Bs",
        "outputId": "7f18323d-4159-403e-e134-6880cb0e9845"
      },
      "outputs": [
        {
          "name": "stdout",
          "output_type": "stream",
          "text": [
            "mnelson.txt\n"
          ]
        }
      ],
      "source": [
        "!touch mnelson.txt\n",
        "!ls"
      ]
    },
    {
      "cell_type": "code",
      "execution_count": 4,
      "metadata": {
        "colab": {
          "base_uri": "https://localhost:8080/"
        },
        "id": "eTeaTgC1b_RD",
        "outputId": "2f8c58af-1f42-4bae-abf5-6abc7cc52824"
      },
      "outputs": [
        {
          "name": "stdout",
          "output_type": "stream",
          "text": [
            "On branch master\n",
            "\n",
            "No commits yet\n",
            "\n",
            "Untracked files:\n",
            "  (use \"git add <file>...\" to include in what will be committed)\n",
            "\t\u001b[31mmnelson.txt\u001b[m\n",
            "\n",
            "nothing added to commit but untracked files present (use \"git add\" to track)\n"
          ]
        }
      ],
      "source": [
        "!git status"
      ]
    },
    {
      "cell_type": "code",
      "execution_count": 5,
      "metadata": {
        "id": "ywKrr9IpcB7T"
      },
      "outputs": [],
      "source": [
        "!git add mnelson.txt"
      ]
    },
    {
      "cell_type": "code",
      "execution_count": 6,
      "metadata": {
        "colab": {
          "base_uri": "https://localhost:8080/"
        },
        "id": "tukAZwyLcigB",
        "outputId": "a4a463e3-2dc2-4d06-cebd-aa3e5e5540bd"
      },
      "outputs": [
        {
          "name": "stdout",
          "output_type": "stream",
          "text": [
            "On branch master\n",
            "\n",
            "No commits yet\n",
            "\n",
            "Changes to be committed:\n",
            "  (use \"git rm --cached <file>...\" to unstage)\n",
            "\t\u001b[32mnew file:   mnelson.txt\u001b[m\n",
            "\n"
          ]
        }
      ],
      "source": [
        "!git status"
      ]
    },
    {
      "cell_type": "markdown",
      "metadata": {
        "id": "k18XZ23Yc3Gt"
      },
      "source": [
        "Note that on first commit, you will have to provide your email and name. We suggest that you use the same credentials as for your GitHub account. Here we use \"CS4001\" as an example."
      ]
    },
    {
      "cell_type": "code",
      "execution_count": 7,
      "metadata": {
        "colab": {
          "base_uri": "https://localhost:8080/"
        },
        "id": "ErrkIB0-cj7J",
        "outputId": "3984e973-abbc-48e4-9428-db7def9797ce"
      },
      "outputs": [
        {
          "name": "stdout",
          "output_type": "stream",
          "text": [
            "Author identity unknown\n",
            "\n",
            "*** Please tell me who you are.\n",
            "\n",
            "Run\n",
            "\n",
            "  git config --global user.email \"you@example.com\"\n",
            "  git config --global user.name \"Your Name\"\n",
            "\n",
            "to set your account's default identity.\n",
            "Omit --global to set the identity only in this repository.\n",
            "\n",
            "fatal: unable to auto-detect email address (got 'root@d1ee71b49d77.(none)')\n"
          ]
        }
      ],
      "source": [
        "!git commit -m \"This is my first commit!\""
      ]
    },
    {
      "cell_type": "code",
      "execution_count": 8,
      "metadata": {
        "id": "sYnqOPQXdSef"
      },
      "outputs": [],
      "source": [
        "!git config --global user.email \"CS4001@example.com\"\n",
        "!git config --global user.name \"CS4001\""
      ]
    },
    {
      "cell_type": "code",
      "execution_count": 9,
      "metadata": {
        "colab": {
          "base_uri": "https://localhost:8080/"
        },
        "id": "Hq5sIOxFdeA_",
        "outputId": "09d2d489-6f27-45da-d5a3-305b25103086"
      },
      "outputs": [
        {
          "name": "stdout",
          "output_type": "stream",
          "text": [
            "[master (root-commit) 278e1a2] This is my first commit!\n",
            " 1 file changed, 0 insertions(+), 0 deletions(-)\n",
            " create mode 100644 mnelson.txt\n"
          ]
        }
      ],
      "source": [
        "!git commit -m \"This is my first commit!\""
      ]
    },
    {
      "cell_type": "markdown",
      "metadata": {
        "id": "-NWiuyWoxMxW"
      },
      "source": [
        "**Note:** \"This is my first commit!\" is a bad commit message. Commit messages should be meaningful and clearly state the changes."
      ]
    },
    {
      "cell_type": "code",
      "execution_count": 10,
      "metadata": {
        "colab": {
          "base_uri": "https://localhost:8080/"
        },
        "id": "lxnl3zV-dhbY",
        "outputId": "cb0f0f7b-a217-43dd-a36f-8671c829cdba"
      },
      "outputs": [
        {
          "name": "stdout",
          "output_type": "stream",
          "text": [
            "On branch master\n",
            "nothing to commit, working tree clean\n"
          ]
        }
      ],
      "source": [
        "!git status"
      ]
    },
    {
      "cell_type": "markdown",
      "metadata": {
        "id": "YH7OqzjadlST"
      },
      "source": [
        "## Synchronizing changes with GitHub. Push-pull logic"
      ]
    },
    {
      "cell_type": "markdown",
      "metadata": {
        "id": "3pcmN7zXeV0X"
      },
      "source": [
        "To set synchronization with GitHub, you have to create a repository on GitHub (called **remote repository**) and link it with your local version. Once the link is established, you can send local changes to GitHub (called **push**) and receive changes from GitHub (called **pull**).\n",
        "\n",
        "Read [Step 6](https://product.hubspot.com/blog/git-and-github-tutorial-for-beginners) to learn more about pushing changes. To repeat the steps, replace the sample repository address with your real GitHub repository address."
      ]
    },
    {
      "cell_type": "code",
      "execution_count": null,
      "metadata": {
        "id": "mTTzrEq-hNZ2"
      },
      "outputs": [],
      "source": [
        "!git remote add origin https://github.com/cubeton/mynewrepository.git"
      ]
    },
    {
      "cell_type": "code",
      "execution_count": null,
      "metadata": {
        "id": "Vga8E2eshRe6"
      },
      "outputs": [],
      "source": [
        "!git push -u origin main"
      ]
    },
    {
      "cell_type": "markdown",
      "metadata": {
        "id": "uVZ749oZhz1q"
      },
      "source": [
        "Pulling changes happens in 2 steps: first, you **fetch** (download) changes from Github; second, you **merge** the changes with your local copy. The **pull** command performs fetch + merge automatically.\n",
        "\n",
        "Read sections:\n",
        "- Fetching changes from a remote repository\n",
        "- Merging changes into your local branch\n",
        "- Pulling changes from a remote repository\n",
        "\n",
        "from [this page](https://docs.github.com/en/get-started/using-git/getting-changes-from-a-remote-repository#fetching-changes-from-a-remote-repository) to learn more about pulling changes. The corresponding commands are"
      ]
    },
    {
      "cell_type": "code",
      "execution_count": null,
      "metadata": {
        "id": "jK8y6GO7pAQ0"
      },
      "outputs": [],
      "source": [
        "!git fetch REMOTE-NAME\n",
        "!git merge REMOTE-NAME/BRANCH-NAME"
      ]
    },
    {
      "cell_type": "markdown",
      "metadata": {
        "id": "UGgx4xC3pIT3"
      },
      "source": [
        "and"
      ]
    },
    {
      "cell_type": "code",
      "execution_count": null,
      "metadata": {
        "id": "7aAayleQnAoG"
      },
      "outputs": [],
      "source": [
        "!git pull REMOTE-NAME"
      ]
    },
    {
      "cell_type": "markdown",
      "metadata": {
        "id": "FJ6jcvbAmOd7"
      },
      "source": [
        "## Collaboration. Cloning a repository"
      ]
    },
    {
      "cell_type": "markdown",
      "metadata": {
        "id": "iYZhX0bKmYqg"
      },
      "source": [
        "Push-pull logic provides a convenient method for collaboration. A typical workflow looks as follows:\n",
        "- Collaborator 1 pulls changes from GitHub.\n",
        "- Collaborator 1 makes local changes, adds and commits them.\n",
        "- Collaborator 1 pushes changes to GitHub.\n",
        "- Collaborator 2 pulls changes from GitHub.\n",
        "- Collaborator 2 makes local changes, adds and commits them.\n",
        "- Collaborator 2 pushes changes to GitHub.\n",
        "- etc.\n",
        "\n",
        "Assume collaborator 1 set up the repository and added collaborator 2 to it. To start working, collaborator 2 has to **clone** the repository (download a local copy).\n",
        "\n",
        "Read the \"Cloning a repository\" section from [here](https://docs.github.com/en/get-started/using-git/getting-changes-from-a-remote-repository) to learn more about cloning."
      ]
    },
    {
      "cell_type": "code",
      "execution_count": null,
      "metadata": {
        "id": "5oRiQ_DbroWV"
      },
      "outputs": [],
      "source": [
        "!git clone https://github.com/USERNAME/REPOSITORY.git"
      ]
    },
    {
      "cell_type": "markdown",
      "metadata": {
        "id": "_OJe588MrogM"
      },
      "source": [
        "**Note.** In the sections above, we initialized a local repository and synchronized it with GitHub. However, it is often convenient to first create a repository on GitHub and then clone it as a local copy. This is because GitHub provides functionality for adding helpful utility files (such as README.md, license and .gitignore) on initialization. You can read more about this workflow [here](https://docs.github.com/en/get-started/start-your-journey/hello-world)."
      ]
    },
    {
      "cell_type": "markdown",
      "metadata": {
        "id": "d_NAhTUAlU8O"
      },
      "source": [
        "## Merge conflicts"
      ]
    },
    {
      "cell_type": "markdown",
      "metadata": {
        "id": "6gBHnUTRlYIq"
      },
      "source": [
        "Suppose collaborators 1 and 2 edited the same file and made conflicting changes (e.g., edited the same function and provided different implementations). This situation, known as **merge conflict**, is the reason for the 2-stage pulling procedure described above (i.e., separate fetch and merge steps).\n",
        "\n",
        "If a merge conflict occurs, `git merge` will fail and suggest resolving the conflict. To resolve the conflict:\n",
        "- Use the `git status` command to see the conflicting files.\n",
        "- Open each file in question. You will see conflicting changes highlighted with special text symbols (<<< and ===).\n",
        "- Edit the file to leave only the final version. Do not forget to delete special text symbols.\n",
        "- Add and commit your changes.\n",
        "\n",
        "Read [this page](https://docs.github.com/en/pull-requests/collaborating-with-pull-requests/addressing-merge-conflicts/resolving-a-merge-conflict-using-the-command-line) to learn more about resolving merge conflicts."
      ]
    },
    {
      "cell_type": "markdown",
      "metadata": {
        "id": "sybsJWlYp9WH"
      },
      "source": [
        "## Homework:\n",
        "1. In groups of 3, create a new public repository on GitHub and add all members of the group as collaborators.\n",
        "2. Each member: clone a repository, create a text file with arbitrary content and push it, leaving a meaningful commit message.\n",
        "3. Each member: edit your file on GitHub and in the local repository simultaneously, introducing conflicting changes. Then commit your work. Pull the changes to the local version, solve the merge conflict and push the results."
      ]
    }
  ],
  "metadata": {
    "colab": {
      "provenance": []
    },
    "kernelspec": {
      "display_name": "Python 3",
      "name": "python3"
    },
    "language_info": {
      "name": "python"
    }
  },
  "nbformat": 4,
  "nbformat_minor": 0
}
