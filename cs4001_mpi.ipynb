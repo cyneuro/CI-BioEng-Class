{
  "nbformat": 4,
  "nbformat_minor": 0,
  "metadata": {
    "colab": {
      "provenance": []
    },
    "kernelspec": {
      "name": "python3",
      "display_name": "Python 3"
    },
    "language_info": {
      "name": "python"
    }
  },
  "cells": [
    {
      "cell_type": "markdown",
      "source": [
        "# Introduction to MPI"
      ],
      "metadata": {
        "id": "2o4lGpxaxXxW"
      }
    },
    {
      "cell_type": "markdown",
      "source": [
        "## Homework:\n",
        "\n",
        "1. Review the MPI parallelization of the matrix multiplication problem in [this tutorial](https://afzalbadshah.medium.com/matrix-multiplication-on-multiple-processors-mpi4py-dce0cb4a6d53).\n",
        "2. Using the code above, write a function which can multiply 2 random $N\\times N$ matrices.\n",
        "3. Select 3-4 values of $N$ (e.g., $N =$ 10, 100, 500, 1000) and record multiplication time in the following scenarios:\n",
        "    - Serial multiplication on a PC.\n",
        "    - Parallel multiplication on a PC.\n",
        "    - Parallel multiplication in Colab.\n",
        "    - Parallel multiplication on FABRIC / ACCESS / CloudLab / Hellbender.\n",
        "\n",
        "Plot the simulation time dynamics of these scenarios on the same graph."
      ],
      "metadata": {
        "id": "KJuFl0onxkSz"
      }
    },
    {
      "cell_type": "code",
      "source": [],
      "metadata": {
        "id": "4Pb0rSW1xZNt"
      },
      "execution_count": null,
      "outputs": []
    }
  ]
}