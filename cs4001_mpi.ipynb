{
  "cells": [
    {
      "cell_type": "markdown",
      "metadata": {},
      "source": [
        "<a target=\"_blank\" href=\"https://colab.research.google.com/github/cyneuro/CI-BioEng-Class/blob/main/cs4001_mpi.ipynb\">\n",
        "  <img src=\"https://colab.research.google.com/assets/colab-badge.svg\" alt=\"Open In Colab\"/>\n",
        "</a>"
      ]
    },
    {
      "cell_type": "markdown",
      "metadata": {
        "id": "2o4lGpxaxXxW"
      },
      "source": [
        "# Introduction to MPI"
      ]
    },
    {
      "cell_type": "markdown",
      "metadata": {
        "id": "KJuFl0onxkSz"
      },
      "source": [
        "## Homework:\n",
        "\n",
        "1. Review the MPI parallelization of the matrix multiplication problem in [this tutorial](https://afzalbadshah.medium.com/matrix-multiplication-on-multiple-processors-mpi4py-dce0cb4a6d53).\n",
        "2. Using the code above, write a function which can multiply 2 random $N\\times N$ matrices.\n",
        "3. Select 3-4 values of $N$ (e.g., $N =$ 10, 100, 500, 1000) and record multiplication time in the following scenarios:\n",
        "    - Serial multiplication on a PC.\n",
        "    - Parallel multiplication on a PC.\n",
        "    - Parallel multiplication in Colab.\n",
        "    - Parallel multiplication on FABRIC / ACCESS / CloudLab / Hellbender.\n",
        "\n",
        "Plot the simulation time dynamics of these scenarios on the same graph."
      ]
    },
    {
      "cell_type": "code",
      "execution_count": null,
      "metadata": {
        "id": "4Pb0rSW1xZNt"
      },
      "outputs": [],
      "source": []
    }
  ],
  "metadata": {
    "colab": {
      "provenance": []
    },
    "kernelspec": {
      "display_name": "Python 3",
      "name": "python3"
    },
    "language_info": {
      "name": "python"
    }
  },
  "nbformat": 4,
  "nbformat_minor": 0
}
